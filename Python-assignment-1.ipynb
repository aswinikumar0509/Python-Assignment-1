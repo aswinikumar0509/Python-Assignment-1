{
 "cells": [
  {
   "cell_type": "raw",
   "id": "363eb490",
   "metadata": {},
   "source": [
    "Q1.1. In the below elements which of them are values or an expression? eg:- values can be\n",
    "integer or string and expressions will be mathematical operators.\n",
    "*\n",
    "\"hello\"\n",
    "-87.8\n",
    "-\n",
    "/\n",
    "+\n",
    "6\n",
    "\n",
    "Ans-> The value and the expression\n",
    "1. (*) is expression\n",
    "2. \"hello\" is  string value\n",
    "3. -87.8 is interger value\n",
    "4. (-) is expression\n",
    "5. (+) is expression\n",
    "6. 6 is interger value"
   ]
  },
  {
   "cell_type": "raw",
   "id": "9f541e38",
   "metadata": {},
   "source": [
    "Q2. What is the difference between string and variable?\n",
    "Ans->\n",
    " The difference between the string and variable \n",
    " \n",
    " 1.String : String is the data which we use to fill up the variable.\n",
    " \n",
    " 2.Variable : Variable is the symbol which we use to store the value"
   ]
  },
  {
   "cell_type": "raw",
   "id": "55481150",
   "metadata": {},
   "source": [
    "Q3 .Describe three different data types?\n",
    "Ans->\n",
    "Three differnet data types are :\n",
    "1. Numeric : \n",
    "In numeric data type it represent the data which has numeric value.\n",
    "Numeric value can be interger,float and the complex number.\n",
    "\n",
    "2.Boolean:\n",
    "In boolean , data type which has one of the two built-in value True and False.\n",
    "Boolean objects that are equal to True are truthy (true), and those equal to False are falsy (false).\n",
    "But non-Boolean objects can be evaluated in Boolean context as well and determined to be true or false. \n",
    "It is denoted by the class bool.\n",
    "\n",
    "3.Sequence type:\n",
    " Sequence is the ordered collection of similar or different data types.\n",
    " Sequences allows to store multiple values in an organized and efficient fashion.\n",
    " There are several sequence types in python like \n",
    " String \n",
    " List \n",
    " Tuple"
   ]
  },
  {
   "cell_type": "raw",
   "id": "ecdc6813",
   "metadata": {},
   "source": [
    "4. What is an expression made up of? What do all expressions do?\n",
    "Ans->\n",
    "\n",
    "An expression is a construct made up of variables, operators, and method invocations, which are constructed according to the syntax of the language, that evaluates to a single value.\n",
    "So that if there is more than one operator in an expression, their precedence decides which operation will be performed first.\n"
   ]
  },
  {
   "cell_type": "raw",
   "id": "2491ea7c",
   "metadata": {},
   "source": [
    "Q5.This assignment statements, like spam = 10. What is the difference between an expression and a statement?\n",
    "\n",
    "Ans->\n",
    "The differnece between the expression and the statement :\n",
    "1.Expression : Expression is the combination of the variable , operation and the value that yield the result.\n",
    "spam = 10, where spam is the expression\n",
    "\n",
    "2.Statement : Statement represent the action and the command.\n",
    "spam = 10 is the statement where it store the value of 10 in the spam.\n",
    "\n"
   ]
  },
  {
   "cell_type": "code",
   "execution_count": 1,
   "id": "f658ad59",
   "metadata": {},
   "outputs": [
    {
     "name": "stdout",
     "output_type": "stream",
     "text": [
      "22\n"
     ]
    }
   ],
   "source": [
    "#6. After running the following code, what does the variable bacon contain?\n",
    "bacon = 22\n",
    "bacon + 1\n",
    "\n",
    "print(bacon)\n",
    "\n",
    "# It show 22 because here in the second statement it not store the value in the bacon variable."
   ]
  },
  {
   "cell_type": "code",
   "execution_count": 2,
   "id": "8dc24532",
   "metadata": {},
   "outputs": [
    {
     "data": {
      "text/plain": [
       "'spamspamspam'"
      ]
     },
     "execution_count": 2,
     "metadata": {},
     "output_type": "execute_result"
    }
   ],
   "source": [
    "#7. What should the values of the following two terms be?\n",
    "\n",
    "'spam' + 'spamspam'\n",
    "'spam' * 3\n"
   ]
  },
  {
   "cell_type": "raw",
   "id": "4418c406",
   "metadata": {},
   "source": [
    "Q8. Why is eggs a valid variable name while 100 is invalid?\n",
    "\n",
    "Ans->\n",
    "  Because we can't start giving variable an integer name. \n",
    "  If we should begin with, a string-like alphabet name then integer. e100 or eggs100 is valid."
   ]
  },
  {
   "cell_type": "raw",
   "id": "50f17c03",
   "metadata": {},
   "source": [
    "Q9.What three functions can be used to get the integer, floating-point number, or string version of a value?\n",
    "\n",
    "Ans->\n",
    "  str(), int(), float()"
   ]
  },
  {
   "cell_type": "raw",
   "id": "3ce4a8ac",
   "metadata": {},
   "source": [
    "Q10. Why does this expression cause an error? How can you fix it?\n",
    "'I have eaten' + 99 + 'burritos' \n",
    "Ans->\n",
    "Because 99 is an integer it cannot be concatenated with strings, if we have to concatenate it we need to do typecasting."
   ]
  },
  {
   "cell_type": "markdown",
   "id": "d2c75104",
   "metadata": {},
   "source": [
    "Python first assignment"
   ]
  },
  {
   "cell_type": "code",
   "execution_count": null,
   "id": "4bb508d1",
   "metadata": {},
   "outputs": [],
   "source": []
  }
 ],
 "metadata": {
  "kernelspec": {
   "display_name": "Python 3",
   "language": "python",
   "name": "python3"
  },
  "language_info": {
   "codemirror_mode": {
    "name": "ipython",
    "version": 3
   },
   "file_extension": ".py",
   "mimetype": "text/x-python",
   "name": "python",
   "nbconvert_exporter": "python",
   "pygments_lexer": "ipython3",
   "version": "3.8.8"
  }
 },
 "nbformat": 4,
 "nbformat_minor": 5
}
